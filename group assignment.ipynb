{
 "cells": [
  {
   "cell_type": "code",
   "execution_count": 1,
   "id": "54a450b8-21e9-456c-9f4a-7c89147212bd",
   "metadata": {},
   "outputs": [
    {
     "name": "stderr",
     "output_type": "stream",
     "text": [
      "-- \u001b[1mAttaching core tidyverse packages\u001b[22m ------------------------ tidyverse 2.0.0 --\n",
      "\u001b[32mv\u001b[39m \u001b[34mdplyr    \u001b[39m 1.1.3     \u001b[32mv\u001b[39m \u001b[34mreadr    \u001b[39m 2.1.4\n",
      "\u001b[32mv\u001b[39m \u001b[34mforcats  \u001b[39m 1.0.0     \u001b[32mv\u001b[39m \u001b[34mstringr  \u001b[39m 1.5.0\n",
      "\u001b[32mv\u001b[39m \u001b[34mggplot2  \u001b[39m 3.4.3     \u001b[32mv\u001b[39m \u001b[34mtibble   \u001b[39m 3.2.1\n",
      "\u001b[32mv\u001b[39m \u001b[34mlubridate\u001b[39m 1.9.2     \u001b[32mv\u001b[39m \u001b[34mtidyr    \u001b[39m 1.3.0\n",
      "\u001b[32mv\u001b[39m \u001b[34mpurrr    \u001b[39m 1.0.2     \n",
      "-- \u001b[1mConflicts\u001b[22m ------------------------------------------ tidyverse_conflicts() --\n",
      "\u001b[31mx\u001b[39m \u001b[34mdplyr\u001b[39m::\u001b[32mfilter()\u001b[39m masks \u001b[34mstats\u001b[39m::filter()\n",
      "\u001b[31mx\u001b[39m \u001b[34mdplyr\u001b[39m::\u001b[32mlag()\u001b[39m    masks \u001b[34mstats\u001b[39m::lag()\n",
      "\u001b[36mi\u001b[39m Use the conflicted package (\u001b[3m\u001b[34m<http://conflicted.r-lib.org/>\u001b[39m\u001b[23m) to force all conflicts to become errors\n"
     ]
    }
   ],
   "source": [
    "library(tidyverse)"
   ]
  },
  {
   "cell_type": "code",
   "execution_count": 2,
   "id": "aca30263-dcf1-4693-a764-7c6efbd88fd7",
   "metadata": {},
   "outputs": [],
   "source": [
    "library(readr)"
   ]
  },
  {
   "cell_type": "code",
   "execution_count": 3,
   "id": "9258343f-bc6a-4529-927d-5c96932ade70",
   "metadata": {
    "scrolled": true
   },
   "outputs": [
    {
     "name": "stderr",
     "output_type": "stream",
     "text": [
      "\u001b[1mRows: \u001b[22m\u001b[34m821744\u001b[39m \u001b[1mColumns: \u001b[22m\u001b[34m72\u001b[39m\n",
      "\u001b[36m--\u001b[39m \u001b[1mColumn specification\u001b[22m \u001b[36m--------------------------------------------------------\u001b[39m\n",
      "\u001b[1mDelimiter:\u001b[22m \",\"\n",
      "\u001b[31mchr\u001b[39m (20): crashDirectionDescription, crashFinancialYear, crashLocation1, cra...\n",
      "\u001b[32mdbl\u001b[39m (50): X, Y, OBJECTID, advisorySpeed, areaUnitID, bicycle, bridge, bus, c...\n",
      "\u001b[33mlgl\u001b[39m  (2): crashRoadSideRoad, intersection\n",
      "\n",
      "\u001b[36mi\u001b[39m Use `spec()` to retrieve the full column specification for this data.\n",
      "\u001b[36mi\u001b[39m Specify the column types or set `show_col_types = FALSE` to quiet this message.\n"
     ]
    },
    {
     "data": {
      "text/html": [
       "<table class=\"dataframe\">\n",
       "<caption>A tibble: 6 x 72</caption>\n",
       "<thead>\n",
       "\t<tr><th scope=col>X</th><th scope=col>Y</th><th scope=col>OBJECTID</th><th scope=col>advisorySpeed</th><th scope=col>areaUnitID</th><th scope=col>bicycle</th><th scope=col>bridge</th><th scope=col>bus</th><th scope=col>carStationWagon</th><th scope=col>cliffBank</th><th scope=col>...</th><th scope=col>train</th><th scope=col>tree</th><th scope=col>truck</th><th scope=col>unknownVehicleType</th><th scope=col>urban</th><th scope=col>vanOrUtility</th><th scope=col>vehicle</th><th scope=col>waterRiver</th><th scope=col>weatherA</th><th scope=col>weatherB</th></tr>\n",
       "\t<tr><th scope=col>&lt;dbl&gt;</th><th scope=col>&lt;dbl&gt;</th><th scope=col>&lt;dbl&gt;</th><th scope=col>&lt;dbl&gt;</th><th scope=col>&lt;dbl&gt;</th><th scope=col>&lt;dbl&gt;</th><th scope=col>&lt;dbl&gt;</th><th scope=col>&lt;dbl&gt;</th><th scope=col>&lt;dbl&gt;</th><th scope=col>&lt;dbl&gt;</th><th scope=col>...</th><th scope=col>&lt;dbl&gt;</th><th scope=col>&lt;dbl&gt;</th><th scope=col>&lt;dbl&gt;</th><th scope=col>&lt;dbl&gt;</th><th scope=col>&lt;chr&gt;</th><th scope=col>&lt;dbl&gt;</th><th scope=col>&lt;dbl&gt;</th><th scope=col>&lt;dbl&gt;</th><th scope=col>&lt;chr&gt;</th><th scope=col>&lt;chr&gt;</th></tr>\n",
       "</thead>\n",
       "<tbody>\n",
       "\t<tr><td>2037858</td><td>5707835</td><td>1</td><td>NA</td><td>544801</td><td>0</td><td>NA</td><td>0</td><td>2</td><td>NA</td><td>...</td><td>NA</td><td>NA</td><td>0</td><td>0</td><td>Urban</td><td>0</td><td>NA</td><td>NA</td><td>Fine</td><td>Null</td></tr>\n",
       "\t<tr><td>1799424</td><td>5815528</td><td>2</td><td>NA</td><td>528900</td><td>0</td><td>NA</td><td>0</td><td>2</td><td>NA</td><td>...</td><td>NA</td><td>NA</td><td>0</td><td>0</td><td>Urban</td><td>0</td><td>NA</td><td>NA</td><td>Fine</td><td>Null</td></tr>\n",
       "\t<tr><td>1756461</td><td>5936053</td><td>3</td><td>NA</td><td>507000</td><td>0</td><td>NA</td><td>0</td><td>0</td><td>NA</td><td>...</td><td>NA</td><td>NA</td><td>0</td><td>0</td><td>Urban</td><td>1</td><td>NA</td><td>NA</td><td>Fine</td><td>Null</td></tr>\n",
       "\t<tr><td>1551129</td><td>5171320</td><td>4</td><td>NA</td><td>597513</td><td>0</td><td> 0</td><td>0</td><td>2</td><td> 0</td><td>...</td><td> 0</td><td> 0</td><td>0</td><td>0</td><td>Open </td><td>0</td><td> 0</td><td> 0</td><td>Fine</td><td>Null</td></tr>\n",
       "\t<tr><td>1245391</td><td>4849172</td><td>5</td><td>NA</td><td>611500</td><td>0</td><td>NA</td><td>0</td><td>1</td><td>NA</td><td>...</td><td>NA</td><td>NA</td><td>0</td><td>0</td><td>Urban</td><td>1</td><td>NA</td><td>NA</td><td>Fine</td><td>Null</td></tr>\n",
       "\t<tr><td>1348754</td><td>4871617</td><td>6</td><td>30</td><td>607300</td><td>0</td><td> 0</td><td>0</td><td>1</td><td> 0</td><td>...</td><td> 0</td><td> 0</td><td>0</td><td>0</td><td>Open </td><td>0</td><td> 0</td><td> 0</td><td>Fine</td><td>Null</td></tr>\n",
       "</tbody>\n",
       "</table>\n"
      ],
      "text/latex": [
       "A tibble: 6 x 72\n",
       "\\begin{tabular}{lllllllllllllllllllll}\n",
       " X & Y & OBJECTID & advisorySpeed & areaUnitID & bicycle & bridge & bus & carStationWagon & cliffBank & ... & train & tree & truck & unknownVehicleType & urban & vanOrUtility & vehicle & waterRiver & weatherA & weatherB\\\\\n",
       " <dbl> & <dbl> & <dbl> & <dbl> & <dbl> & <dbl> & <dbl> & <dbl> & <dbl> & <dbl> & ... & <dbl> & <dbl> & <dbl> & <dbl> & <chr> & <dbl> & <dbl> & <dbl> & <chr> & <chr>\\\\\n",
       "\\hline\n",
       "\t 2037858 & 5707835 & 1 & NA & 544801 & 0 & NA & 0 & 2 & NA & ... & NA & NA & 0 & 0 & Urban & 0 & NA & NA & Fine & Null\\\\\n",
       "\t 1799424 & 5815528 & 2 & NA & 528900 & 0 & NA & 0 & 2 & NA & ... & NA & NA & 0 & 0 & Urban & 0 & NA & NA & Fine & Null\\\\\n",
       "\t 1756461 & 5936053 & 3 & NA & 507000 & 0 & NA & 0 & 0 & NA & ... & NA & NA & 0 & 0 & Urban & 1 & NA & NA & Fine & Null\\\\\n",
       "\t 1551129 & 5171320 & 4 & NA & 597513 & 0 &  0 & 0 & 2 &  0 & ... &  0 &  0 & 0 & 0 & Open  & 0 &  0 &  0 & Fine & Null\\\\\n",
       "\t 1245391 & 4849172 & 5 & NA & 611500 & 0 & NA & 0 & 1 & NA & ... & NA & NA & 0 & 0 & Urban & 1 & NA & NA & Fine & Null\\\\\n",
       "\t 1348754 & 4871617 & 6 & 30 & 607300 & 0 &  0 & 0 & 1 &  0 & ... &  0 &  0 & 0 & 0 & Open  & 0 &  0 &  0 & Fine & Null\\\\\n",
       "\\end{tabular}\n"
      ],
      "text/markdown": [
       "\n",
       "A tibble: 6 x 72\n",
       "\n",
       "| X &lt;dbl&gt; | Y &lt;dbl&gt; | OBJECTID &lt;dbl&gt; | advisorySpeed &lt;dbl&gt; | areaUnitID &lt;dbl&gt; | bicycle &lt;dbl&gt; | bridge &lt;dbl&gt; | bus &lt;dbl&gt; | carStationWagon &lt;dbl&gt; | cliffBank &lt;dbl&gt; | ... ... | train &lt;dbl&gt; | tree &lt;dbl&gt; | truck &lt;dbl&gt; | unknownVehicleType &lt;dbl&gt; | urban &lt;chr&gt; | vanOrUtility &lt;dbl&gt; | vehicle &lt;dbl&gt; | waterRiver &lt;dbl&gt; | weatherA &lt;chr&gt; | weatherB &lt;chr&gt; |\n",
       "|---|---|---|---|---|---|---|---|---|---|---|---|---|---|---|---|---|---|---|---|---|\n",
       "| 2037858 | 5707835 | 1 | NA | 544801 | 0 | NA | 0 | 2 | NA | ... | NA | NA | 0 | 0 | Urban | 0 | NA | NA | Fine | Null |\n",
       "| 1799424 | 5815528 | 2 | NA | 528900 | 0 | NA | 0 | 2 | NA | ... | NA | NA | 0 | 0 | Urban | 0 | NA | NA | Fine | Null |\n",
       "| 1756461 | 5936053 | 3 | NA | 507000 | 0 | NA | 0 | 0 | NA | ... | NA | NA | 0 | 0 | Urban | 1 | NA | NA | Fine | Null |\n",
       "| 1551129 | 5171320 | 4 | NA | 597513 | 0 |  0 | 0 | 2 |  0 | ... |  0 |  0 | 0 | 0 | Open  | 0 |  0 |  0 | Fine | Null |\n",
       "| 1245391 | 4849172 | 5 | NA | 611500 | 0 | NA | 0 | 1 | NA | ... | NA | NA | 0 | 0 | Urban | 1 | NA | NA | Fine | Null |\n",
       "| 1348754 | 4871617 | 6 | 30 | 607300 | 0 |  0 | 0 | 1 |  0 | ... |  0 |  0 | 0 | 0 | Open  | 0 |  0 |  0 | Fine | Null |\n",
       "\n"
      ],
      "text/plain": [
       "  X       Y       OBJECTID advisorySpeed areaUnitID bicycle bridge bus\n",
       "1 2037858 5707835 1        NA            544801     0       NA     0  \n",
       "2 1799424 5815528 2        NA            528900     0       NA     0  \n",
       "3 1756461 5936053 3        NA            507000     0       NA     0  \n",
       "4 1551129 5171320 4        NA            597513     0        0     0  \n",
       "5 1245391 4849172 5        NA            611500     0       NA     0  \n",
       "6 1348754 4871617 6        30            607300     0        0     0  \n",
       "  carStationWagon cliffBank ... train tree truck unknownVehicleType urban\n",
       "1 2               NA        ... NA    NA   0     0                  Urban\n",
       "2 2               NA        ... NA    NA   0     0                  Urban\n",
       "3 0               NA        ... NA    NA   0     0                  Urban\n",
       "4 2                0        ...  0     0   0     0                  Open \n",
       "5 1               NA        ... NA    NA   0     0                  Urban\n",
       "6 1                0        ...  0     0   0     0                  Open \n",
       "  vanOrUtility vehicle waterRiver weatherA weatherB\n",
       "1 0            NA      NA         Fine     Null    \n",
       "2 0            NA      NA         Fine     Null    \n",
       "3 1            NA      NA         Fine     Null    \n",
       "4 0             0       0         Fine     Null    \n",
       "5 1            NA      NA         Fine     Null    \n",
       "6 0             0       0         Fine     Null    "
      ]
     },
     "metadata": {},
     "output_type": "display_data"
    }
   ],
   "source": [
    "cas <- read_csv(file = \"Crash_Analysis_System_(CAS)_data.csv\") \n",
    "head(cas)"
   ]
  },
  {
   "cell_type": "code",
   "execution_count": 5,
   "id": "858f7366-914c-473c-822d-67e092597467",
   "metadata": {},
   "outputs": [
    {
     "name": "stderr",
     "output_type": "stream",
     "text": [
      "Downloading GitHub repo ropensci/visdat@HEAD\n",
      "\n"
     ]
    },
    {
     "name": "stdout",
     "output_type": "stream",
     "text": [
      "\n",
      "\u001b[36m--\u001b[39m \u001b[36mR CMD build\u001b[39m \u001b[36m-----------------------------------------------------------------\u001b[39m\n",
      "   e\u001c",
      "(e\u0010/e\n",
      "   (h\u0007g(\u000b",
      "d8- - Warning message:\n",
      "   Setting LC_CTYPE=zh_CN.UTF-8 failed \n",
      "\u001b[32mv\u001b[39m  \u001b[90mchecking for file 'C:\\Users\\User\\AppData\\Local\\Temp\\RtmpCYsP4y\\remotes28f86dc9242a\\ropensci-visdat-e791c89/DESCRIPTION'\u001b[39m\u001b[36m\u001b[39m\n",
      "\u001b[90m-\u001b[39m\u001b[90m  \u001b[39m\u001b[90mpreparing 'visdat':\u001b[39m\u001b[36m\u001b[36m (2.7s)\u001b[36m\u001b[39m\n",
      "\u001b[32mv\u001b[39m  \u001b[90mchecking DESCRIPTION meta-information\u001b[39m\u001b[36m\u001b[39m\n",
      "\u001b[90m-\u001b[39m\u001b[90m  \u001b[39m\u001b[90mchecking for LF line-endings in source and make files and shell scripts\u001b[39m\u001b[36m\u001b[36m (366ms)\u001b[36m\u001b[39m\n",
      "\u001b[90m-\u001b[39m\u001b[90m  \u001b[39m\u001b[90mchecking for empty or unneeded directories\u001b[39m\u001b[36m\u001b[39m\n",
      "\u001b[90m-\u001b[39m\u001b[90m  \u001b[39m\u001b[90mbuilding 'visdat_0.6.0.9000.tar.gz'\u001b[39m\u001b[36m\u001b[39m\n",
      "   \n",
      "\r"
     ]
    }
   ],
   "source": [
    "remotes::install_github(\"ropensci/visdat\")#download "
   ]
  },
  {
   "cell_type": "code",
   "execution_count": 6,
   "id": "28729734-d348-4564-bba2-aecfc51f5e41",
   "metadata": {},
   "outputs": [],
   "source": [
    "library(visdat)#load visdat"
   ]
  },
  {
   "cell_type": "code",
   "execution_count": 7,
   "id": "a30d8ac6-1f53-42ed-98f8-23c14b8caec0",
   "metadata": {},
   "outputs": [
    {
     "ename": "ERROR",
     "evalue": "\u001b[1m\u001b[33mError\u001b[39m in `test_if_large_data()`:\u001b[22m\n\u001b[1m\u001b[22m\u001b[33m!\u001b[39m Data exceeds recommended size for visualisation\nConsider downsampling your data with `dplyr::slice_sample()`\nOr set argument, `warn_large_data` = `FALSE`\n",
     "output_type": "error",
     "traceback": [
      "\u001b[1m\u001b[33mError\u001b[39m in `test_if_large_data()`:\u001b[22m\n\u001b[1m\u001b[22m\u001b[33m!\u001b[39m Data exceeds recommended size for visualisation\nConsider downsampling your data with `dplyr::slice_sample()`\nOr set argument, `warn_large_data` = `FALSE`\nTraceback:\n",
      "1. cas %>% vis_miss()",
      "2. vis_miss(.)",
      "3. test_if_large_data(x, large_data_size, warn_large_data)",
      "4. cli::cli_abort(c(\"Data exceeds recommended size for visualisation\", \n .     \"Consider downsampling your data with {.fn dplyr::slice_sample}\", \n .     \"Or set argument, {.arg warn_large_data} = {.arg FALSE}\"))",
      "5. rlang::abort(message, ..., call = call, use_cli_format = TRUE, \n .     .frame = .frame)",
      "6. signal_abort(cnd, .file)"
     ]
    }
   ],
   "source": [
    "#missing values in dataframe\n",
    "cas %>%\n",
    "  vis_miss()"
   ]
  },
  {
   "cell_type": "code",
   "execution_count": 12,
   "id": "efc4fdca-0259-4276-aeae-90f5619acc06",
   "metadata": {},
   "outputs": [
    {
     "name": "stdout",
     "output_type": "stream",
     "text": [
      "spc_tbl_ [821,744 x 72] (S3: spec_tbl_df/tbl_df/tbl/data.frame)\n",
      " $ X                        : num [1:821744] 2037858 1799424 1756461 1551129 1245391 ...\n",
      " $ Y                        : num [1:821744] 5707835 5815528 5936053 5171320 4849172 ...\n",
      " $ OBJECTID                 : num [1:821744] 1 2 3 4 5 6 7 8 9 10 ...\n",
      " $ advisorySpeed            : num [1:821744] NA NA NA NA NA 30 NA NA NA NA ...\n",
      " $ areaUnitID               : num [1:821744] 544801 528900 507000 597513 611500 ...\n",
      " $ bicycle                  : num [1:821744] 0 0 0 0 0 0 0 0 0 0 ...\n",
      " $ bridge                   : num [1:821744] NA NA NA 0 NA 0 0 NA NA 0 ...\n",
      " $ bus                      : num [1:821744] 0 0 0 0 0 0 0 0 0 0 ...\n",
      " $ carStationWagon          : num [1:821744] 2 2 0 2 1 1 1 1 2 2 ...\n",
      " $ cliffBank                : num [1:821744] NA NA NA 0 NA 0 0 NA NA 0 ...\n",
      " $ crashDirectionDescription: chr [1:821744] \"Null\" \"Null\" \"Null\" \"Null\" ...\n",
      " $ crashFinancialYear       : chr [1:821744] \"2011/2012\" \"2011/2012\" \"2012/2013\" \"2011/2012\" ...\n",
      " $ crashLocation1           : chr [1:821744] \"SH 35 WAINUI\" \"HALL ST\" \"SHARON ROAD\" \"SPRINGSTON ROLLESTON ROAD\" ...\n",
      " $ crashLocation2           : chr [1:821744] \"HIRINI ST\" \"LAKE ROAD\" \"RIDGE ROAD\" \"DYNES ROAD\" ...\n",
      " $ crashRoadSideRoad        : logi [1:821744] NA NA NA NA NA NA ...\n",
      " $ crashSeverity            : chr [1:821744] \"Non-Injury Crash\" \"Non-Injury Crash\" \"Minor Crash\" \"Non-Injury Crash\" ...\n",
      " $ crashSHDescription       : chr [1:821744] \"Yes\" \"No\" \"No\" \"No\" ...\n",
      " $ crashYear                : num [1:821744] 2011 2012 2012 2011 2011 ...\n",
      " $ debris                   : num [1:821744] NA NA NA 0 NA 0 0 NA NA 0 ...\n",
      " $ directionRoleDescription : chr [1:821744] \"East\" \"South\" \"North\" \"South\" ...\n",
      " $ ditch                    : num [1:821744] NA NA NA 0 NA 0 0 NA NA 0 ...\n",
      " $ fatalCount               : num [1:821744] 0 0 0 0 0 0 0 0 0 0 ...\n",
      " $ fence                    : num [1:821744] NA NA NA 1 NA 0 0 NA NA 0 ...\n",
      " $ flatHill                 : chr [1:821744] \"Flat\" \"Flat\" \"Hill Road\" \"Flat\" ...\n",
      " $ guardRail                : num [1:821744] NA NA NA 0 NA 0 1 NA NA 0 ...\n",
      " $ holiday                  : chr [1:821744] \"Christmas New Year\" NA NA NA ...\n",
      " $ houseOrBuilding          : num [1:821744] NA NA NA 0 NA 0 0 NA NA 0 ...\n",
      " $ intersection             : logi [1:821744] NA NA NA NA NA NA ...\n",
      " $ kerb                     : num [1:821744] NA NA NA 0 NA 0 0 NA NA 0 ...\n",
      " $ light                    : chr [1:821744] \"Overcast\" \"Overcast\" \"Bright sun\" \"Bright sun\" ...\n",
      " $ meshblockId              : num [1:821744] 1387500 913000 162800 2719404 3139300 ...\n",
      " $ minorInjuryCount         : num [1:821744] 0 0 1 0 0 0 0 0 0 0 ...\n",
      " $ moped                    : num [1:821744] 0 0 0 0 0 0 0 0 0 0 ...\n",
      " $ motorcycle               : num [1:821744] 0 0 0 0 0 0 0 0 0 0 ...\n",
      " $ NumberOfLanes            : num [1:821744] 1 5 2 2 4 2 2 2 2 2 ...\n",
      " $ objectThrownOrDropped    : num [1:821744] NA NA NA 0 NA 0 0 NA NA 0 ...\n",
      " $ otherObject              : num [1:821744] NA NA NA 1 NA 0 0 NA NA 0 ...\n",
      " $ otherVehicleType         : num [1:821744] 0 0 0 0 0 0 0 0 0 0 ...\n",
      " $ overBank                 : num [1:821744] NA NA NA 0 NA 1 0 NA NA 0 ...\n",
      " $ parkedVehicle            : num [1:821744] NA NA NA 0 NA 0 0 NA NA 0 ...\n",
      " $ pedestrian               : num [1:821744] NA NA 1 NA NA NA NA NA NA NA ...\n",
      " $ phoneBoxEtc              : num [1:821744] NA NA NA 0 NA 0 0 NA NA 0 ...\n",
      " $ postOrPole               : num [1:821744] NA NA NA 0 NA 0 0 NA NA 0 ...\n",
      " $ region                   : chr [1:821744] \"Gisborne Region\" \"Waikato Region\" \"Auckland Region\" \"Canterbury Region\" ...\n",
      " $ roadCharacter            : chr [1:821744] \"Nil\" \"Nil\" \"Nil\" \"Nil\" ...\n",
      " $ roadLane                 : chr [1:821744] \"2-way\" \"2-way\" \"2-way\" \"2-way\" ...\n",
      " $ roadSurface              : chr [1:821744] \"Sealed\" \"Sealed\" \"Sealed\" \"Sealed\" ...\n",
      " $ roadworks                : num [1:821744] NA NA NA 0 NA 0 0 NA NA 0 ...\n",
      " $ schoolBus                : num [1:821744] 0 0 0 0 0 0 0 0 0 0 ...\n",
      " $ seriousInjuryCount       : num [1:821744] 0 0 0 0 0 0 0 0 0 0 ...\n",
      " $ slipOrFlood              : num [1:821744] NA NA NA 0 NA 0 0 NA NA 0 ...\n",
      " $ speedLimit               : num [1:821744] 50 50 50 100 50 100 80 50 80 50 ...\n",
      " $ strayAnimal              : num [1:821744] NA NA NA 0 NA 0 0 NA NA 0 ...\n",
      " $ streetLight              : chr [1:821744] \"Null\" \"Null\" \"Off\" \"Null\" ...\n",
      " $ suv                      : num [1:821744] 0 0 0 0 0 0 0 0 0 0 ...\n",
      " $ taxi                     : num [1:821744] 0 0 0 0 0 0 0 0 0 0 ...\n",
      " $ temporarySpeedLimit      : num [1:821744] NA NA NA NA NA NA NA NA NA NA ...\n",
      " $ tlaId                    : num [1:821744] 28 16 76 62 75 72 46 76 16 76 ...\n",
      " $ tlaName                  : chr [1:821744] \"Gisborne District\" \"Hamilton City\" \"Auckland\" \"Selwyn District\" ...\n",
      " $ trafficControl           : chr [1:821744] \"Give way\" \"Traffic Signals\" \"Nil\" \"Nil\" ...\n",
      " $ trafficIsland            : num [1:821744] NA NA NA 0 NA 0 0 NA NA 0 ...\n",
      " $ trafficSign              : num [1:821744] NA NA NA 0 NA 0 0 NA NA 0 ...\n",
      " $ train                    : num [1:821744] NA NA NA 0 NA 0 0 NA NA 0 ...\n",
      " $ tree                     : num [1:821744] NA NA NA 0 NA 0 0 NA NA 0 ...\n",
      " $ truck                    : num [1:821744] 0 0 0 0 0 0 0 1 0 0 ...\n",
      " $ unknownVehicleType       : num [1:821744] 0 0 0 0 0 0 0 0 0 0 ...\n",
      " $ urban                    : chr [1:821744] \"Urban\" \"Urban\" \"Urban\" \"Open\" ...\n",
      " $ vanOrUtility             : num [1:821744] 0 0 1 0 1 0 0 0 0 0 ...\n",
      " $ vehicle                  : num [1:821744] NA NA NA 0 NA 0 0 NA NA 1 ...\n",
      " $ waterRiver               : num [1:821744] NA NA NA 0 NA 0 0 NA NA 0 ...\n",
      " $ weatherA                 : chr [1:821744] \"Fine\" \"Fine\" \"Fine\" \"Fine\" ...\n",
      " $ weatherB                 : chr [1:821744] \"Null\" \"Null\" \"Null\" \"Null\" ...\n",
      " - attr(*, \"spec\")=\n",
      "  .. cols(\n",
      "  ..   X = \u001b[32mcol_double()\u001b[39m,\n",
      "  ..   Y = \u001b[32mcol_double()\u001b[39m,\n",
      "  ..   OBJECTID = \u001b[32mcol_double()\u001b[39m,\n",
      "  ..   advisorySpeed = \u001b[32mcol_double()\u001b[39m,\n",
      "  ..   areaUnitID = \u001b[32mcol_double()\u001b[39m,\n",
      "  ..   bicycle = \u001b[32mcol_double()\u001b[39m,\n",
      "  ..   bridge = \u001b[32mcol_double()\u001b[39m,\n",
      "  ..   bus = \u001b[32mcol_double()\u001b[39m,\n",
      "  ..   carStationWagon = \u001b[32mcol_double()\u001b[39m,\n",
      "  ..   cliffBank = \u001b[32mcol_double()\u001b[39m,\n",
      "  ..   crashDirectionDescription = \u001b[31mcol_character()\u001b[39m,\n",
      "  ..   crashFinancialYear = \u001b[31mcol_character()\u001b[39m,\n",
      "  ..   crashLocation1 = \u001b[31mcol_character()\u001b[39m,\n",
      "  ..   crashLocation2 = \u001b[31mcol_character()\u001b[39m,\n",
      "  ..   crashRoadSideRoad = \u001b[33mcol_logical()\u001b[39m,\n",
      "  ..   crashSeverity = \u001b[31mcol_character()\u001b[39m,\n",
      "  ..   crashSHDescription = \u001b[31mcol_character()\u001b[39m,\n",
      "  ..   crashYear = \u001b[32mcol_double()\u001b[39m,\n",
      "  ..   debris = \u001b[32mcol_double()\u001b[39m,\n",
      "  ..   directionRoleDescription = \u001b[31mcol_character()\u001b[39m,\n",
      "  ..   ditch = \u001b[32mcol_double()\u001b[39m,\n",
      "  ..   fatalCount = \u001b[32mcol_double()\u001b[39m,\n",
      "  ..   fence = \u001b[32mcol_double()\u001b[39m,\n",
      "  ..   flatHill = \u001b[31mcol_character()\u001b[39m,\n",
      "  ..   guardRail = \u001b[32mcol_double()\u001b[39m,\n",
      "  ..   holiday = \u001b[31mcol_character()\u001b[39m,\n",
      "  ..   houseOrBuilding = \u001b[32mcol_double()\u001b[39m,\n",
      "  ..   intersection = \u001b[33mcol_logical()\u001b[39m,\n",
      "  ..   kerb = \u001b[32mcol_double()\u001b[39m,\n",
      "  ..   light = \u001b[31mcol_character()\u001b[39m,\n",
      "  ..   meshblockId = \u001b[32mcol_double()\u001b[39m,\n",
      "  ..   minorInjuryCount = \u001b[32mcol_double()\u001b[39m,\n",
      "  ..   moped = \u001b[32mcol_double()\u001b[39m,\n",
      "  ..   motorcycle = \u001b[32mcol_double()\u001b[39m,\n",
      "  ..   NumberOfLanes = \u001b[32mcol_double()\u001b[39m,\n",
      "  ..   objectThrownOrDropped = \u001b[32mcol_double()\u001b[39m,\n",
      "  ..   otherObject = \u001b[32mcol_double()\u001b[39m,\n",
      "  ..   otherVehicleType = \u001b[32mcol_double()\u001b[39m,\n",
      "  ..   overBank = \u001b[32mcol_double()\u001b[39m,\n",
      "  ..   parkedVehicle = \u001b[32mcol_double()\u001b[39m,\n",
      "  ..   pedestrian = \u001b[32mcol_double()\u001b[39m,\n",
      "  ..   phoneBoxEtc = \u001b[32mcol_double()\u001b[39m,\n",
      "  ..   postOrPole = \u001b[32mcol_double()\u001b[39m,\n",
      "  ..   region = \u001b[31mcol_character()\u001b[39m,\n",
      "  ..   roadCharacter = \u001b[31mcol_character()\u001b[39m,\n",
      "  ..   roadLane = \u001b[31mcol_character()\u001b[39m,\n",
      "  ..   roadSurface = \u001b[31mcol_character()\u001b[39m,\n",
      "  ..   roadworks = \u001b[32mcol_double()\u001b[39m,\n",
      "  ..   schoolBus = \u001b[32mcol_double()\u001b[39m,\n",
      "  ..   seriousInjuryCount = \u001b[32mcol_double()\u001b[39m,\n",
      "  ..   slipOrFlood = \u001b[32mcol_double()\u001b[39m,\n",
      "  ..   speedLimit = \u001b[32mcol_double()\u001b[39m,\n",
      "  ..   strayAnimal = \u001b[32mcol_double()\u001b[39m,\n",
      "  ..   streetLight = \u001b[31mcol_character()\u001b[39m,\n",
      "  ..   suv = \u001b[32mcol_double()\u001b[39m,\n",
      "  ..   taxi = \u001b[32mcol_double()\u001b[39m,\n",
      "  ..   temporarySpeedLimit = \u001b[32mcol_double()\u001b[39m,\n",
      "  ..   tlaId = \u001b[32mcol_double()\u001b[39m,\n",
      "  ..   tlaName = \u001b[31mcol_character()\u001b[39m,\n",
      "  ..   trafficControl = \u001b[31mcol_character()\u001b[39m,\n",
      "  ..   trafficIsland = \u001b[32mcol_double()\u001b[39m,\n",
      "  ..   trafficSign = \u001b[32mcol_double()\u001b[39m,\n",
      "  ..   train = \u001b[32mcol_double()\u001b[39m,\n",
      "  ..   tree = \u001b[32mcol_double()\u001b[39m,\n",
      "  ..   truck = \u001b[32mcol_double()\u001b[39m,\n",
      "  ..   unknownVehicleType = \u001b[32mcol_double()\u001b[39m,\n",
      "  ..   urban = \u001b[31mcol_character()\u001b[39m,\n",
      "  ..   vanOrUtility = \u001b[32mcol_double()\u001b[39m,\n",
      "  ..   vehicle = \u001b[32mcol_double()\u001b[39m,\n",
      "  ..   waterRiver = \u001b[32mcol_double()\u001b[39m,\n",
      "  ..   weatherA = \u001b[31mcol_character()\u001b[39m,\n",
      "  ..   weatherB = \u001b[31mcol_character()\u001b[39m\n",
      "  .. )\n",
      " - attr(*, \"problems\")=<externalptr> \n"
     ]
    }
   ],
   "source": [
    "str(cas)"
   ]
  },
  {
   "cell_type": "code",
   "execution_count": 17,
   "id": "557f3584-7764-4b91-941e-58cf4b09a1b5",
   "metadata": {},
   "outputs": [
    {
     "data": {
      "text/html": [
       "<table class=\"dataframe\">\n",
       "<caption>A tibble: 6 x 68</caption>\n",
       "<thead>\n",
       "\t<tr><th scope=col>OBJECTID</th><th scope=col>advisorySpeed</th><th scope=col>areaUnitID</th><th scope=col>bicycle</th><th scope=col>bridge</th><th scope=col>bus</th><th scope=col>carStationWagon</th><th scope=col>cliffBank</th><th scope=col>crashDirectionDescription</th><th scope=col>crashFinancialYear</th><th scope=col>...</th><th scope=col>train</th><th scope=col>tree</th><th scope=col>truck</th><th scope=col>unknownVehicleType</th><th scope=col>urban</th><th scope=col>vanOrUtility</th><th scope=col>vehicle</th><th scope=col>waterRiver</th><th scope=col>weatherA</th><th scope=col>weatherB</th></tr>\n",
       "\t<tr><th scope=col>&lt;dbl&gt;</th><th scope=col>&lt;dbl&gt;</th><th scope=col>&lt;dbl&gt;</th><th scope=col>&lt;dbl&gt;</th><th scope=col>&lt;dbl&gt;</th><th scope=col>&lt;dbl&gt;</th><th scope=col>&lt;dbl&gt;</th><th scope=col>&lt;dbl&gt;</th><th scope=col>&lt;chr&gt;</th><th scope=col>&lt;chr&gt;</th><th scope=col>...</th><th scope=col>&lt;dbl&gt;</th><th scope=col>&lt;dbl&gt;</th><th scope=col>&lt;dbl&gt;</th><th scope=col>&lt;dbl&gt;</th><th scope=col>&lt;chr&gt;</th><th scope=col>&lt;dbl&gt;</th><th scope=col>&lt;dbl&gt;</th><th scope=col>&lt;dbl&gt;</th><th scope=col>&lt;chr&gt;</th><th scope=col>&lt;chr&gt;</th></tr>\n",
       "</thead>\n",
       "<tbody>\n",
       "\t<tr><td>1</td><td>NA</td><td>544801</td><td>0</td><td>NA</td><td>0</td><td>2</td><td>NA</td><td>Null</td><td>2011/2012</td><td>...</td><td>NA</td><td>NA</td><td>0</td><td>0</td><td>Urban</td><td>0</td><td>NA</td><td>NA</td><td>Fine</td><td>Null</td></tr>\n",
       "\t<tr><td>2</td><td>NA</td><td>528900</td><td>0</td><td>NA</td><td>0</td><td>2</td><td>NA</td><td>Null</td><td>2011/2012</td><td>...</td><td>NA</td><td>NA</td><td>0</td><td>0</td><td>Urban</td><td>0</td><td>NA</td><td>NA</td><td>Fine</td><td>Null</td></tr>\n",
       "\t<tr><td>3</td><td>NA</td><td>507000</td><td>0</td><td>NA</td><td>0</td><td>0</td><td>NA</td><td>Null</td><td>2012/2013</td><td>...</td><td>NA</td><td>NA</td><td>0</td><td>0</td><td>Urban</td><td>1</td><td>NA</td><td>NA</td><td>Fine</td><td>Null</td></tr>\n",
       "\t<tr><td>4</td><td>NA</td><td>597513</td><td>0</td><td> 0</td><td>0</td><td>2</td><td> 0</td><td>Null</td><td>2011/2012</td><td>...</td><td> 0</td><td> 0</td><td>0</td><td>0</td><td>Open </td><td>0</td><td> 0</td><td> 0</td><td>Fine</td><td>Null</td></tr>\n",
       "\t<tr><td>5</td><td>NA</td><td>611500</td><td>0</td><td>NA</td><td>0</td><td>1</td><td>NA</td><td>Null</td><td>2011/2012</td><td>...</td><td>NA</td><td>NA</td><td>0</td><td>0</td><td>Urban</td><td>1</td><td>NA</td><td>NA</td><td>Fine</td><td>Null</td></tr>\n",
       "\t<tr><td>6</td><td>30</td><td>607300</td><td>0</td><td> 0</td><td>0</td><td>1</td><td> 0</td><td>Null</td><td>2010/2011</td><td>...</td><td> 0</td><td> 0</td><td>0</td><td>0</td><td>Open </td><td>0</td><td> 0</td><td> 0</td><td>Fine</td><td>Null</td></tr>\n",
       "</tbody>\n",
       "</table>\n"
      ],
      "text/latex": [
       "A tibble: 6 x 68\n",
       "\\begin{tabular}{lllllllllllllllllllll}\n",
       " OBJECTID & advisorySpeed & areaUnitID & bicycle & bridge & bus & carStationWagon & cliffBank & crashDirectionDescription & crashFinancialYear & ... & train & tree & truck & unknownVehicleType & urban & vanOrUtility & vehicle & waterRiver & weatherA & weatherB\\\\\n",
       " <dbl> & <dbl> & <dbl> & <dbl> & <dbl> & <dbl> & <dbl> & <dbl> & <chr> & <chr> & ... & <dbl> & <dbl> & <dbl> & <dbl> & <chr> & <dbl> & <dbl> & <dbl> & <chr> & <chr>\\\\\n",
       "\\hline\n",
       "\t 1 & NA & 544801 & 0 & NA & 0 & 2 & NA & Null & 2011/2012 & ... & NA & NA & 0 & 0 & Urban & 0 & NA & NA & Fine & Null\\\\\n",
       "\t 2 & NA & 528900 & 0 & NA & 0 & 2 & NA & Null & 2011/2012 & ... & NA & NA & 0 & 0 & Urban & 0 & NA & NA & Fine & Null\\\\\n",
       "\t 3 & NA & 507000 & 0 & NA & 0 & 0 & NA & Null & 2012/2013 & ... & NA & NA & 0 & 0 & Urban & 1 & NA & NA & Fine & Null\\\\\n",
       "\t 4 & NA & 597513 & 0 &  0 & 0 & 2 &  0 & Null & 2011/2012 & ... &  0 &  0 & 0 & 0 & Open  & 0 &  0 &  0 & Fine & Null\\\\\n",
       "\t 5 & NA & 611500 & 0 & NA & 0 & 1 & NA & Null & 2011/2012 & ... & NA & NA & 0 & 0 & Urban & 1 & NA & NA & Fine & Null\\\\\n",
       "\t 6 & 30 & 607300 & 0 &  0 & 0 & 1 &  0 & Null & 2010/2011 & ... &  0 &  0 & 0 & 0 & Open  & 0 &  0 &  0 & Fine & Null\\\\\n",
       "\\end{tabular}\n"
      ],
      "text/markdown": [
       "\n",
       "A tibble: 6 x 68\n",
       "\n",
       "| OBJECTID &lt;dbl&gt; | advisorySpeed &lt;dbl&gt; | areaUnitID &lt;dbl&gt; | bicycle &lt;dbl&gt; | bridge &lt;dbl&gt; | bus &lt;dbl&gt; | carStationWagon &lt;dbl&gt; | cliffBank &lt;dbl&gt; | crashDirectionDescription &lt;chr&gt; | crashFinancialYear &lt;chr&gt; | ... ... | train &lt;dbl&gt; | tree &lt;dbl&gt; | truck &lt;dbl&gt; | unknownVehicleType &lt;dbl&gt; | urban &lt;chr&gt; | vanOrUtility &lt;dbl&gt; | vehicle &lt;dbl&gt; | waterRiver &lt;dbl&gt; | weatherA &lt;chr&gt; | weatherB &lt;chr&gt; |\n",
       "|---|---|---|---|---|---|---|---|---|---|---|---|---|---|---|---|---|---|---|---|---|\n",
       "| 1 | NA | 544801 | 0 | NA | 0 | 2 | NA | Null | 2011/2012 | ... | NA | NA | 0 | 0 | Urban | 0 | NA | NA | Fine | Null |\n",
       "| 2 | NA | 528900 | 0 | NA | 0 | 2 | NA | Null | 2011/2012 | ... | NA | NA | 0 | 0 | Urban | 0 | NA | NA | Fine | Null |\n",
       "| 3 | NA | 507000 | 0 | NA | 0 | 0 | NA | Null | 2012/2013 | ... | NA | NA | 0 | 0 | Urban | 1 | NA | NA | Fine | Null |\n",
       "| 4 | NA | 597513 | 0 |  0 | 0 | 2 |  0 | Null | 2011/2012 | ... |  0 |  0 | 0 | 0 | Open  | 0 |  0 |  0 | Fine | Null |\n",
       "| 5 | NA | 611500 | 0 | NA | 0 | 1 | NA | Null | 2011/2012 | ... | NA | NA | 0 | 0 | Urban | 1 | NA | NA | Fine | Null |\n",
       "| 6 | 30 | 607300 | 0 |  0 | 0 | 1 |  0 | Null | 2010/2011 | ... |  0 |  0 | 0 | 0 | Open  | 0 |  0 |  0 | Fine | Null |\n",
       "\n"
      ],
      "text/plain": [
       "  OBJECTID advisorySpeed areaUnitID bicycle bridge bus carStationWagon\n",
       "1 1        NA            544801     0       NA     0   2              \n",
       "2 2        NA            528900     0       NA     0   2              \n",
       "3 3        NA            507000     0       NA     0   0              \n",
       "4 4        NA            597513     0        0     0   2              \n",
       "5 5        NA            611500     0       NA     0   1              \n",
       "6 6        30            607300     0        0     0   1              \n",
       "  cliffBank crashDirectionDescription crashFinancialYear ... train tree truck\n",
       "1 NA        Null                      2011/2012          ... NA    NA   0    \n",
       "2 NA        Null                      2011/2012          ... NA    NA   0    \n",
       "3 NA        Null                      2012/2013          ... NA    NA   0    \n",
       "4  0        Null                      2011/2012          ...  0     0   0    \n",
       "5 NA        Null                      2011/2012          ... NA    NA   0    \n",
       "6  0        Null                      2010/2011          ...  0     0   0    \n",
       "  unknownVehicleType urban vanOrUtility vehicle waterRiver weatherA weatherB\n",
       "1 0                  Urban 0            NA      NA         Fine     Null    \n",
       "2 0                  Urban 0            NA      NA         Fine     Null    \n",
       "3 0                  Urban 1            NA      NA         Fine     Null    \n",
       "4 0                  Open  0             0       0         Fine     Null    \n",
       "5 0                  Urban 1            NA      NA         Fine     Null    \n",
       "6 0                  Open  0             0       0         Fine     Null    "
      ]
     },
     "metadata": {},
     "output_type": "display_data"
    }
   ],
   "source": [
    "# Assuming your data frame is named cas\n",
    "# Select fields other than \"X\", \"Y\", \"meshblockId\", \"tlaId\"\n",
    "new_df <- cas[, !(names(cas) %in% c(\"X\", \"Y\", \"meshblockId\", \"tlaId\"))]\n",
    "head(new_df)"
   ]
  },
  {
   "cell_type": "code",
   "execution_count": null,
   "id": "4533bb3f-47a1-4bcf-83d9-8639b5cde6ed",
   "metadata": {},
   "outputs": [],
   "source": [
    "#Change the name of mnth to month\n",
    "#new_df %>% rename(\n",
    "#    )"
   ]
  }
 ],
 "metadata": {
  "kernelspec": {
   "display_name": "R",
   "language": "R",
   "name": "ir"
  },
  "language_info": {
   "codemirror_mode": "r",
   "file_extension": ".r",
   "mimetype": "text/x-r-source",
   "name": "R",
   "pygments_lexer": "r",
   "version": "4.3.1"
  }
 },
 "nbformat": 4,
 "nbformat_minor": 5
}
