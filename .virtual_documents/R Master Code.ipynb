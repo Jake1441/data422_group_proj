





required_packages <- c("tidyverse", "readr", "skimr", "visdat")

for (packageName in required_packages){
if (!requireNamespace(packageName, quietly = TRUE)) {
  install.packages(packageName)
}
}


# load library
library(tidyverse)
library(readr)
library(skimr)
library(visdat)





gas <- read_csv(file = "Datasets/Energy_Weekly_fuel_prices_Apr_2004Jul_2023.csv") 
gas


data <- gas %>%
    select(c(Week, "Fuel price measure", Value, "Value Unit"))


taxes <- data %>%
  filter(grepl("taxes", gas$"Fuel price measure", ignore.case = TRUE))
taxes


excluding_taxes <- data %>%
  filter(grepl("excluding taxes", gas$"Fuel price measure", ignore.case = TRUE))
excluding_taxes


filtered_data <- excluding_taxes %>%
  filter(`Fuel price measure` != "Diesel main port price excluding taxes")
filtered_data


filtered_data$`Fuel price measure` <- gsub("excluding taxes", "", filtered_data$`Fuel price measure`)
filtered_data


result <- anti_join(taxes, excluding_taxes)
result


result$Value <- round(result$Value, 3)
result


result$`Fuel price measure` <- gsub("taxes", "", result$`Fuel price measure`)
result


nrow(result)
nrow(filtered_data)


str(result)
str(filtered_data)


price <- data.frame(
  Week = result$Week,
  Fuel = filtered_data$"Fuel price measure",
  Value = result$Value + filtered_data$Value,
  Unit = filtered_data$`Value Unit`
)
price


save(price,file="./Datasets/price.rda")


#check the dataset
car <- read_csv("./Datasets/CarTypes.csv", skip = 1)


car %>% glimpse()


car %>% vis_miss()


car2 <- car %>%
rename(Brand = ...1,Model = ...2,Type = ...3,Engine = ...4,
       FuelType = ...5, FuelCost = ...6,costdifference = ...19,TankSize =`Tank size 2023 (L)`)
car2$FuelCost[car2$FuelCost == "91"] <- "Regular_Petrol"
car2$FuelCost[car2$FuelCost == "95"] <- "Premium_Petrol_95R"
car2


load(file = "./Datasets/prices_long.rda")


ls()


fuelprice <- new_df %>% gather(key = FuelCost,
         value = price,-Year)


fuelprice


combined <- car2 %>% select(Brand,Model,FuelCost,TankSize )
combined$Fuelefficiency <- rowMeans(car2[, c("2,013", "2,023")])
combined 


combinedfinal <- left_join(fuelprice, combined, by = "FuelCost",multiple = "all")


combinedfinal


set.seed(1)
combinedfinal <- combinedfinal %>%
  rowwise() %>% 
  mutate(
    Range = rnorm(1, mean = TankSize / Fuelefficiency * 100, sd = 50),
    KM_10vehicles_26refuels = 10 * Range * 26,
    FuelCosts_10vehicles = 10 * TankSize * 26 * price
  ) %>%
  ungroup()



combinedfinal


save(file="./Datasets/combinedfinal.rda", combinedfinal)


carfuel <- combinedfinal %>%
    mutate(kmperdollar = KM_10vehicles_26refuels / FuelCosts_10vehicles) %>%
    rename(FuelType = FuelCost)


carfuel


#library(CSV)


write.csv(carfuel, "./Datasets/carfuel.csv")



carfuel_new <- read_csv("./Datasets/carfuel.csv")


carfuel_new
